{
 "cells": [
  {
   "cell_type": "markdown",
   "id": "5cc87354-d0d6-4a62-8a38-2532c523c1fc",
   "metadata": {},
   "source": [
    "### Value iteration"
   ]
  },
  {
   "cell_type": "code",
   "execution_count": 1,
   "id": "171ac2ac-23f0-4ab7-be09-43d2090a9b10",
   "metadata": {},
   "outputs": [],
   "source": [
    "import numpy as np\n",
    "from typing import Tuple"
   ]
  },
  {
   "cell_type": "code",
   "execution_count": 2,
   "id": "b80a2229-bee2-4eda-b97f-ca5f2c545aa3",
   "metadata": {},
   "outputs": [],
   "source": [
    "value_matrix = np.zeros((5,5))\n",
    "gamma = 0.9"
   ]
  },
  {
   "cell_type": "code",
   "execution_count": 3,
   "id": "81d8a010-fdd3-49ab-927a-8654412ce2e3",
   "metadata": {},
   "outputs": [],
   "source": [
    "def step(state_i: int, state_j: int, action_di: int, action_dj: int) -> Tuple[int, int, int]:\n",
    "    \"\"\"Advances the environment one step forward\n",
    "    :param state_i:\n",
    "    :param state_j:\n",
    "    :param action_di:\n",
    "    :param action_dj:\n",
    "    :return: new_state_i, new_state_j, reward\n",
    "    \"\"\"\n",
    "    assert(abs(action_di + action_dj) == 1)\n",
    "    if ((state_i == 0) and (state_j == 1)):\n",
    "        return 4, 1, 10\n",
    "    if ((state_i == 0) and (state_j == 3)):\n",
    "        return 2, 3, 5\n",
    "    if ((state_i == 0) and (action_di == -1)) or ((state_i == 4) and (action_di == 1)) or ((state_j == 0) and (action_dj == -1)) or ((state_j == 4) and (action_dj == 1)):\n",
    "        return state_i, state_j, -1\n",
    "    \n",
    "    return state_i + action_di, state_j+action_dj, 0\n",
    "\n",
    "def compute_value(i, j):\n",
    "    value = 0\n",
    "    for di, dj in [(0, 1), (0, -1), (1, 0), (-1, 0)]:\n",
    "        x, y, r = step(i, j, di, dj)\n",
    "        value += 0.25 * (r + gamma * value_matrix[x, y])\n",
    "    return value"
   ]
  },
  {
   "cell_type": "code",
   "execution_count": 4,
   "id": "d727e5b2-f831-4e31-b49c-b7923b8315bd",
   "metadata": {},
   "outputs": [],
   "source": [
    "for t in range(10000):\n",
    "    for i in range(5):\n",
    "        for j in range(5):\n",
    "            value_matrix[i, j] = compute_value(i, j)"
   ]
  },
  {
   "cell_type": "code",
   "execution_count": 5,
   "id": "3c7288c1-ba5a-45f8-9485-c8b2b8a90966",
   "metadata": {},
   "outputs": [
    {
     "data": {
      "text/plain": [
       "array([[ 3.30899634,  8.78929186,  4.42761918,  5.32236759,  1.49217876],\n",
       "       [ 1.52158807,  2.99231786,  2.25013995,  1.9075717 ,  0.54740271],\n",
       "       [ 0.05082249,  0.73817059,  0.67311326,  0.35818621, -0.40314114],\n",
       "       [-0.9735923 , -0.43549543, -0.35488227, -0.58560509, -1.18307508],\n",
       "       [-1.85770055, -1.34523126, -1.22926726, -1.42291815, -1.97517905]])"
      ]
     },
     "execution_count": 5,
     "metadata": {},
     "output_type": "execute_result"
    }
   ],
   "source": [
    "value_matrix"
   ]
  },
  {
   "cell_type": "code",
   "execution_count": 98,
   "id": "8f8f9c11-e51e-4a85-a003-732700d01fb4",
   "metadata": {},
   "outputs": [
    {
     "data": {
      "text/plain": [
       "8.740693"
      ]
     },
     "execution_count": 98,
     "metadata": {},
     "output_type": "execute_result"
    }
   ],
   "source": []
  }
 ],
 "metadata": {
  "kernelspec": {
   "display_name": "Python 3 (ipykernel)",
   "language": "python",
   "name": "python3"
  },
  "language_info": {
   "codemirror_mode": {
    "name": "ipython",
    "version": 3
   },
   "file_extension": ".py",
   "mimetype": "text/x-python",
   "name": "python",
   "nbconvert_exporter": "python",
   "pygments_lexer": "ipython3",
   "version": "3.12.2"
  }
 },
 "nbformat": 4,
 "nbformat_minor": 5
}
