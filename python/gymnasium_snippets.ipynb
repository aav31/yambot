{
 "cells": [
  {
   "cell_type": "code",
   "execution_count": 13,
   "id": "07da7196",
   "metadata": {},
   "outputs": [],
   "source": [
    "import gymnasium as gym\n",
    "import numpy as np\n",
    "from gymnasium import spaces"
   ]
  },
  {
   "cell_type": "markdown",
   "id": "9130c8e6",
   "metadata": {},
   "source": [
    "# Spaces"
   ]
  },
  {
   "cell_type": "markdown",
   "id": "31e121a5",
   "metadata": {},
   "source": [
    "### Box"
   ]
  },
  {
   "cell_type": "code",
   "execution_count": 17,
   "id": "d590a036",
   "metadata": {
    "scrolled": true
   },
   "outputs": [
    {
     "name": "stdout",
     "output_type": "stream",
     "text": [
      "[0.23681181 0.77411588 0.16444832 0.66284191 0.14854253]\n",
      "[0.01313294 0.41613244 0.0835804  0.64499292 0.69794299]\n",
      "[0.43445887 0.14970431 0.99882417 0.09403666 0.77609758]\n",
      "[0.41500458 0.64744455 0.33877238 0.86146333 0.36596008]\n",
      "[0.5091448  0.8957951  0.58999932 0.92313119 0.09726795]\n",
      "[0.87461336 0.85390712 0.317921   0.23549923 0.10489808]\n",
      "[0.64084816 0.52804331 0.07290601 0.93285498 0.89479087]\n",
      "[0.05914622 0.82047362 0.73078881 0.35730134 0.70120528]\n",
      "[0.92904035 0.83333355 0.16911232 0.98786701 0.14033344]\n",
      "[0.22076206 0.86139928 0.65514576 0.20108933 0.94667719]\n",
      "[[0 0]\n",
      " [1 1]]\n",
      "[[0 0]\n",
      " [0 1]]\n",
      "[[1 1]\n",
      " [1 0]]\n",
      "[[0 1]\n",
      " [0 1]]\n",
      "[[1 0]\n",
      " [1 1]]\n",
      "[[0 1]\n",
      " [0 0]]\n",
      "[[0 1]\n",
      " [1 0]]\n",
      "[[0 0]\n",
      " [1 1]]\n",
      "[[1 0]\n",
      " [1 0]]\n",
      "[[1 1]\n",
      " [1 0]]\n",
      "[0.43050552 1.86433642 9.69810914]\n",
      "[ 0.92536919  3.70379717 29.00179875]\n",
      "[ 0.6320494   2.3807592  57.79846472]\n",
      "[ 0.52399639  3.74994128 91.96521832]\n",
      "[ 0.5207306   6.35069778 76.79566153]\n",
      "[ 0.55343787  6.56688527 28.60107371]\n",
      "[ 0.93579402  3.55501197 95.99578886]\n",
      "[ 0.42151296  5.74999749 22.97936988]\n",
      "[ 0.13581125  4.05929793 38.20253887]\n",
      "[ 0.67478347  4.85235025 51.86161291]\n"
     ]
    }
   ],
   "source": [
    "space_example_1 = spaces.Box(low=0, high=1,shape=(5,), dtype=float)\n",
    "for i in range(10): print(space_example_1.sample())\n",
    "space_example_2 = spaces.Box(low=0, high=1, shape=(2,2),dtype=int)\n",
    "for i in range(10): print(space_example_2.sample())\n",
    "space_example_3 = spaces.Box(low=np.array([0, 0, 0]), high=np.array([1, 10, 100]), dtype=float)\n",
    "for i in range(10): print(space_example_3.sample())"
   ]
  },
  {
   "cell_type": "markdown",
   "id": "e14fdf0e",
   "metadata": {},
   "source": [
    "### Discrete"
   ]
  },
  {
   "cell_type": "code",
   "execution_count": 21,
   "id": "ce95250d",
   "metadata": {},
   "outputs": [
    {
     "name": "stdout",
     "output_type": "stream",
     "text": [
      "1\n",
      "1\n",
      "2\n",
      "1\n",
      "1\n",
      "1\n",
      "3\n",
      "1\n",
      "3\n",
      "3\n"
     ]
    }
   ],
   "source": [
    "space_example_4 = spaces.Discrete(3, start=1)\n",
    "for i in range(10): print(space_example_4.sample())"
   ]
  },
  {
   "cell_type": "markdown",
   "id": "a5e84869",
   "metadata": {},
   "source": [
    "### Text"
   ]
  },
  {
   "cell_type": "code",
   "execution_count": 24,
   "id": "5421666a",
   "metadata": {
    "scrolled": true
   },
   "outputs": [
    {
     "name": "stdout",
     "output_type": "stream",
     "text": [
      "12126\n",
      "42236\n",
      "15666\n",
      "64261\n",
      "35364\n",
      "32242\n",
      "21314\n",
      "54623\n",
      "56666\n",
      "32236\n"
     ]
    }
   ],
   "source": [
    "space_example_5 = spaces.Text(max_length=5, min_length=5, charset=frozenset({'1', '2', '3', '4', '5', '6'}))\n",
    "for i in range(10): print(space_example_5.sample())"
   ]
  },
  {
   "cell_type": "markdown",
   "id": "a3b31d9e",
   "metadata": {},
   "source": [
    "### Dict"
   ]
  },
  {
   "cell_type": "code",
   "execution_count": 31,
   "id": "3ef2c613",
   "metadata": {},
   "outputs": [
    {
     "data": {
      "text/plain": [
       "OrderedDict([('announced', 1),\n",
       "             ('announcedRow', 7),\n",
       "             ('grid',\n",
       "              array([[ 104.70917  ,   38.54352  ,   51.353348 ,  133.81113  ],\n",
       "                     [ 101.35764  ,   52.245953 ,   53.330654 ,   -5.550946 ],\n",
       "                     [ -49.27987  ,   87.63225  ,  130.65039  ,   -7.629896 ],\n",
       "                     [ -22.104834 ,  -58.561176 ,   86.591995 ,  -47.63159  ],\n",
       "                     [  -9.571638 ,  -38.66847  , -105.88202  ,  -56.2279   ],\n",
       "                     [ 144.76065  ,   45.90629  ,  -61.418316 ,   16.606709 ],\n",
       "                     [  87.826225 ,  -13.487684 ,   71.00311  ,  -28.565    ],\n",
       "                     [  -5.9770036, -125.69221  ,   94.95585  ,  130.47585  ],\n",
       "                     [ -50.009666 ,  -44.082966 ,   27.45699  ,   67.92927  ],\n",
       "                     [ 140.44104  ,  -26.877453 ,  128.61024  ,  135.63574  ],\n",
       "                     [ -89.95627  ,   58.626743 ,   99.76696  ,  142.4522   ],\n",
       "                     [  89.10511  ,   43.607716 ,   34.740177 ,   88.55403  ],\n",
       "                     [  94.31482  ,  -38.637703 ,   43.603054 ,  -81.748665 ],\n",
       "                     [ 119.152176 ,   38.493313 , -123.997696 ,    9.059249 ]],\n",
       "                    dtype=float32)),\n",
       "             ('roll', array([0, 0, 3, 0, 0])),\n",
       "             ('rollNumber', 1),\n",
       "             ('turnNumber', 46)])"
      ]
     },
     "execution_count": 31,
     "metadata": {},
     "output_type": "execute_result"
    }
   ],
   "source": [
    "space_example_6_dict = {\n",
    "    \"turnNumber\": spaces.Discrete(14*4,start=1),\n",
    "    \"rollNumber\": spaces.Discrete(3,start=1),\n",
    "    \"grid\": spaces.Box(low=-145, high=145, shape=(14, 4)),\n",
    "    \"announced\": spaces.Discrete(2,start=0),\n",
    "    \"announcedRow\": spaces.Discrete(14, start=0),\n",
    "    \"roll\": spaces.Box(low=0, high=5, shape=(5,), dtype=int),\n",
    "}\n",
    "space_example_6 = spaces.Dict(space_example_6_dict)\n",
    "space_example_6.sample()"
   ]
  },
  {
   "cell_type": "code",
   "execution_count": null,
   "id": "20177d93",
   "metadata": {},
   "outputs": [],
   "source": []
  }
 ],
 "metadata": {
  "kernelspec": {
   "display_name": "Python 3 (ipykernel)",
   "language": "python",
   "name": "python3"
  },
  "language_info": {
   "codemirror_mode": {
    "name": "ipython",
    "version": 3
   },
   "file_extension": ".py",
   "mimetype": "text/x-python",
   "name": "python",
   "nbconvert_exporter": "python",
   "pygments_lexer": "ipython3",
   "version": "3.12.3"
  }
 },
 "nbformat": 4,
 "nbformat_minor": 5
}
