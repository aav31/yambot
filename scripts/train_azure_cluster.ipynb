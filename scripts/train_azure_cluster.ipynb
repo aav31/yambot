{
 "cells": [
  {
   "cell_type": "markdown",
   "metadata": {},
   "source": [
    "## Prerequisites\n",
    "\n",
    "If you don't have a compute instance, select **Create compute** on the toolbar to first create one.  You can use all the default settings.  \n",
    "\n",
    "If your compute instance is stopped, start it now. Once your compute instance is running, make sure the that the kernel, found on the top right, is `Python 3.10 - SDK v2`.  If not, use the dropdown to select this kernel."
   ]
  },
  {
   "cell_type": "markdown",
   "metadata": {
    "nteract": {
     "transient": {
      "deleting": false
     }
    }
   },
   "source": [
    "## Use a command job to train a model in Azure Machine Learning\n",
    "\n",
    "To train a model, you need to submit a *job*. The type of job you'll submit in this tutorial is a *command job*. Azure Machine Learning offers several different types of jobs to train models. Users can select their method of training based on complexity of the model, data size, and training speed requirements.  In this tutorial, you'll learn how to submit a *command job* to run a *training script*. \n",
    "\n",
    "A command job is a function that allows you to submit a custom training script to train your model. This can also be defined as a custom training job. A command job in Azure Machine Learning is a type of job that runs a script or command in a specified environment. You can use command jobs to train models, process data, or any other custom code you want to execute in the cloud. \n",
    "\n",
    "In this tutorial, we'll focus on using a command job to create a custom training job that we'll use to train a model. For any custom training job, the below items are required:\n",
    "\n",
    "* compute resource (usually a compute cluster or [serverless compute (preview)](https://learn.microsoft.com/azure/machine-learning/how-to-use-serverless-compute?view=azureml-api-2&tabs=python))\n",
    "* environment\n",
    "* data\n",
    "* command job \n",
    "* training script\n"
   ]
  },
  {
   "cell_type": "markdown",
   "metadata": {},
   "source": [
    "## Create handle to workspace\n",
    "\n",
    "Before we dive in the code, you need a way to reference your workspace. You'll create `ml_client` for a handle to the workspace.  You'll then use `ml_client` to manage resources and jobs.\n",
    "\n",
    "In the next cell, enter your Subscription ID, Resource Group name and Workspace name. To find these values:\n",
    "\n",
    "1. In the upper right Azure Machine Learning studio toolbar, select your workspace name.\n",
    "1. Copy the value for workspace, resource group and subscription ID into the code.\n",
    "1. You'll need to copy one value, close the area and paste, then come back for the next one."
   ]
  },
  {
   "cell_type": "code",
   "execution_count": 1,
   "metadata": {
    "gather": {
     "logged": 1721493319417
    },
    "name": "credential"
   },
   "outputs": [],
   "source": [
    "from azure.ai.ml import MLClient\n",
    "from azure.identity import DefaultAzureCredential\n",
    "\n",
    "# authenticate\n",
    "credential = DefaultAzureCredential()\n",
    "\n",
    "SUBSCRIPTION = \"1be31ef8-8d22-4196-8b01-190fb6f7b841\"\n",
    "RESOURCE_GROUP = \"aledvaghela-rg\"\n",
    "WS_NAME = \"yambot\"\n",
    "# Get a handle to the workspace\n",
    "ml_client = MLClient(\n",
    "    credential=credential,\n",
    "    subscription_id=SUBSCRIPTION,\n",
    "    resource_group_name=RESOURCE_GROUP,\n",
    "    workspace_name=WS_NAME,\n",
    ")"
   ]
  },
  {
   "cell_type": "markdown",
   "metadata": {},
   "source": [
    "> [!NOTE]\n",
    "> Creating MLClient will not connect to the workspace. The client initialization is lazy, it will wait for the first time it needs to make a call (this will happen in the next code cell)."
   ]
  },
  {
   "cell_type": "code",
   "execution_count": 2,
   "metadata": {
    "gather": {
     "logged": 1721493320659
    }
   },
   "outputs": [
    {
     "name": "stdout",
     "output_type": "stream",
     "text": [
      "uksouth : aledvaghela-rg\n"
     ]
    }
   ],
   "source": [
    "# Verify that the handle works correctly.\n",
    "# If you ge an error here, modify your SUBSCRIPTION, RESOURCE_GROUP, and WS_NAME in the previous cell.\n",
    "ws = ml_client.workspaces.get(WS_NAME)\n",
    "print(ws.location, \":\", ws.resource_group)"
   ]
  },
  {
   "cell_type": "markdown",
   "metadata": {},
   "source": [
    "## Create a job environment\n",
    "\n",
    "To run your Azure Machine Learning job on your compute resource, you need an [environment](https://learn.microsoft.com/articles/machine-learning/concept-environments). An environment lists the software runtime and libraries that you want installed on the compute where you’ll be training. It's similar to your python environment on your local machine.\n",
    "\n",
    "Azure Machine Learning provides many curated or ready-made environments, which are useful for common training and inference scenarios. \n",
    "\n",
    "In this example, you'll create a custom conda environment for your jobs, using a conda yaml file.\n",
    "\n",
    "First, create a directory to store the file in."
   ]
  },
  {
   "cell_type": "code",
   "execution_count": 5,
   "metadata": {
    "gather": {
     "logged": 1721485028703
    },
    "name": "dependencies_dir"
   },
   "outputs": [
    {
     "data": {
      "text/plain": [
       "True"
      ]
     },
     "execution_count": 5,
     "metadata": {},
     "output_type": "execute_result"
    }
   ],
   "source": [
    "import os\n",
    "os.path.isfile(\"../environment.yml\")"
   ]
  },
  {
   "cell_type": "code",
   "execution_count": 8,
   "metadata": {
    "gather": {
     "logged": 1721486072715
    },
    "name": "custom_env_name"
   },
   "outputs": [
    {
     "name": "stdout",
     "output_type": "stream",
     "text": [
      "Environment with name yambot is registered to workspace, the environment version is 1\n"
     ]
    }
   ],
   "source": [
    "# from azure.ai.ml.entities import Environment\n",
    "\n",
    "# custom_env_name = \"yambot\"\n",
    "\n",
    "# custom_job_env = Environment(\n",
    "#     name=custom_env_name,\n",
    "#     conda_file=\"../environment.yml\",\n",
    "#     image=\"mcr.microsoft.com/azureml/openmpi4.1.0-ubuntu20.04:latest\",\n",
    "# )\n",
    "# custom_job_env = ml_client.environments.create_or_update(custom_job_env)\n",
    "\n",
    "# print(\n",
    "#     f\"Environment with name {custom_job_env.name} is registered to workspace, the environment version is {custom_job_env.version}\"\n",
    "# )"
   ]
  },
  {
   "cell_type": "markdown",
   "metadata": {},
   "source": [
    "## Configure a training job using the command function\n",
    "\n",
    "You create an Azure Machine Learning *command job* to train a model; the command job runs a *training script* in a specified environment on a specified compute resource.  You've already created the environment and the compute cluster and the training script by this point.\n",
    "\n",
    "Command jobs can be run from CLI, Python SDK, or studio interface. In this tutorial, you'll use the Azure Machine Learning Python SDK v2 to create and run the command job.\n",
    "\n",
    "Use the general purpose **command** that can run command line actions. This command line action can be directly calling system commands or by running a script.\n",
    "\n",
    "Here, create input variables to specify the input data, split ratio, learning rate and registered model name.  The command script will:\n",
    "* Use the environment created earlier - you can use the `@latest` notation to indicate the latest version of the environment when the command is run.\n",
    "* Configure the command line action itself - `python main.py` in this case. The inputs/outputs are accessible in the command via the `${{ ... }}` notation.\n",
    "* Since a compute resource was not specified, the script will be run on a [serverless compute cluster](https://learn.microsoft.com/azure/machine-learning/how-to-use-serverless-compute?view=azureml-api-2&tabs=python) that is automatically created."
   ]
  },
  {
   "cell_type": "code",
   "execution_count": 4,
   "metadata": {
    "gather": {
     "logged": 1721493343574
    },
    "name": "registered_model_name"
   },
   "outputs": [],
   "source": [
    "from azure.ai.ml import command\n",
    "from azure.ai.ml import Input\n",
    "\n",
    "job = command(\n",
    "    inputs=dict(\n",
    "        episodes=10,\n",
    "        model_name=\"model_default\",\n",
    "    ),\n",
    "    code = \"../\",\n",
    "    command=\"python -m scripts.train --episodes ${{inputs.episodes}} --config \\\"configs/${{inputs.model_name}}.json\\\" --reset True --azure True\",\n",
    "    environment=\"yambot@latest\",\n",
    ")\n"
   ]
  },
  {
   "cell_type": "markdown",
   "metadata": {},
   "source": [
    "## Submit the job \n",
    "\n",
    "It's now time to submit the job to run in Azure Machine Learning studio. This time you'll use `create_or_update`  on `ml_client`. `ml_client` is a client class that allows you to connect to your Azure subscription using Python and interact with Azure Machine Learning services. `ml_client` allows you to submit your jobs using Python."
   ]
  },
  {
   "cell_type": "code",
   "execution_count": 5,
   "metadata": {
    "gather": {
     "logged": 1721493367895
    },
    "name": "create_job"
   },
   "outputs": [
    {
     "name": "stderr",
     "output_type": "stream",
     "text": [
      "Class AutoDeleteSettingSchema: This is an experimental class, and may change at any time. Please see https://aka.ms/azuremlexperimental for more information.\n",
      "Class AutoDeleteConditionSchema: This is an experimental class, and may change at any time. Please see https://aka.ms/azuremlexperimental for more information.\n",
      "Class BaseAutoDeleteSettingSchema: This is an experimental class, and may change at any time. Please see https://aka.ms/azuremlexperimental for more information.\n",
      "Class IntellectualPropertySchema: This is an experimental class, and may change at any time. Please see https://aka.ms/azuremlexperimental for more information.\n",
      "Class ProtectionLevelSchema: This is an experimental class, and may change at any time. Please see https://aka.ms/azuremlexperimental for more information.\n",
      "Class BaseIntellectualPropertySchema: This is an experimental class, and may change at any time. Please see https://aka.ms/azuremlexperimental for more information.\n",
      "\u001b[32mUploading yambot (6.55 MBs): 100%|██████████| 6552806/6552806 [00:00<00:00, 8384876.73it/s] \n",
      "\u001b[39m\n",
      "\n"
     ]
    },
    {
     "data": {
      "text/html": [
       "<table style=\"width:100%\"><tr><th>Experiment</th><th>Name</th><th>Type</th><th>Status</th><th>Details Page</th></tr><tr><td>scripts</td><td>bubbly_battery_pw1p220lkf</td><td>command</td><td>Starting</td><td><a href=\"https://ml.azure.com/runs/bubbly_battery_pw1p220lkf?wsid=/subscriptions/1be31ef8-8d22-4196-8b01-190fb6f7b841/resourcegroups/aledvaghela-rg/workspaces/yambot&amp;tid=41c56fc2-7c3f-4d99-8755-4fb4a60f29c3\" target=\"_blank\" rel=\"noopener\">Link to Azure Machine Learning studio</a></td></tr></table>"
      ],
      "text/plain": [
       "Command({'parameters': {}, 'init': False, 'name': 'bubbly_battery_pw1p220lkf', 'type': 'command', 'status': 'Starting', 'log_files': None, 'description': None, 'tags': {}, 'properties': {'_azureml.ComputeTargetType': 'amlctrain', '_azureml.ClusterName': None, 'ContentSnapshotId': '15e43cba-1943-45c1-a6ff-32b86a8e8924'}, 'print_as_yaml': False, 'id': '/subscriptions/1be31ef8-8d22-4196-8b01-190fb6f7b841/resourceGroups/aledvaghela-rg/providers/Microsoft.MachineLearningServices/workspaces/yambot/jobs/bubbly_battery_pw1p220lkf', 'Resource__source_path': '', 'base_path': '/mnt/batch/tasks/shared/LS_root/mounts/clusters/aledvaghela1/code/Users/aledvaghela/yambot/scripts', 'creation_context': <azure.ai.ml.entities._system_data.SystemData object at 0x7f847f74bbe0>, 'serialize': <msrest.serialization.Serializer object at 0x7f847f760e80>, 'allowed_keys': {}, 'key_restriction': False, 'logger': <TraceLogger attr_dict (WARNING)>, 'display_name': 'bubbly_battery_pw1p220lkf', 'experiment_name': 'scripts', 'compute': None, 'services': {'Tracking': {'endpoint': 'azureml://uksouth.api.azureml.ms/mlflow/v1.0/subscriptions/1be31ef8-8d22-4196-8b01-190fb6f7b841/resourceGroups/aledvaghela-rg/providers/Microsoft.MachineLearningServices/workspaces/yambot?', 'type': 'Tracking'}, 'Studio': {'endpoint': 'https://ml.azure.com/runs/bubbly_battery_pw1p220lkf?wsid=/subscriptions/1be31ef8-8d22-4196-8b01-190fb6f7b841/resourcegroups/aledvaghela-rg/workspaces/yambot&tid=41c56fc2-7c3f-4d99-8755-4fb4a60f29c3', 'type': 'Studio'}}, 'comment': None, 'job_inputs': {'episodes': '10', 'model_name': 'model_default'}, 'job_outputs': {'default': {'type': 'uri_folder', 'path': 'azureml://datastores/workspaceartifactstore/ExperimentRun/dcid.bubbly_battery_pw1p220lkf', 'mode': 'rw_mount'}}, 'inputs': {'episodes': <azure.ai.ml.entities._job.pipeline._io.base.NodeInput object at 0x7f847f7629e0>, 'model_name': <azure.ai.ml.entities._job.pipeline._io.base.NodeInput object at 0x7f847f762dd0>}, 'outputs': {'default': <azure.ai.ml.entities._job.pipeline._io.base.NodeOutput object at 0x7f847f7628c0>}, 'component': CommandComponent({'latest_version': None, 'intellectual_property': None, 'auto_increment_version': True, 'source': 'REMOTE.WORKSPACE.JOB', 'is_anonymous': False, 'auto_delete_setting': None, 'name': 'bubbly_battery_pw1p220lkf', 'description': None, 'tags': {}, 'properties': {}, 'print_as_yaml': False, 'id': None, 'Resource__source_path': None, 'base_path': '/mnt/batch/tasks/shared/LS_root/mounts/clusters/aledvaghela1/code/Users/aledvaghela/yambot/scripts', 'creation_context': <azure.ai.ml.entities._system_data.SystemData object at 0x7f847f74bbe0>, 'serialize': <msrest.serialization.Serializer object at 0x7f847f761450>, 'command': 'python -m scripts.train --episodes ${{inputs.episodes}} --config \"configs/${{inputs.model_name}}.json\" --reset True --azure ', 'code': '/subscriptions/1be31ef8-8d22-4196-8b01-190fb6f7b841/resourceGroups/aledvaghela-rg/providers/Microsoft.MachineLearningServices/workspaces/yambot/codes/3f77a38a-ab5f-4ec5-a13b-d5e1274aba7a/versions/1', 'environment_variables': {}, 'environment': '/subscriptions/1be31ef8-8d22-4196-8b01-190fb6f7b841/resourceGroups/aledvaghela-rg/providers/Microsoft.MachineLearningServices/workspaces/yambot/environments/yambot/versions/1', 'distribution': None, 'resources': None, 'queue_settings': None, 'version': None, 'schema': None, 'type': 'command', 'display_name': 'bubbly_battery_pw1p220lkf', 'is_deterministic': True, 'inputs': {'episodes': {'type': 'string', 'default': '10'}, 'model_name': {'type': 'string', 'default': 'model_default'}}, 'outputs': {'default': {'type': 'uri_folder', 'path': 'azureml://datastores/workspaceartifactstore/ExperimentRun/dcid.bubbly_battery_pw1p220lkf', 'mode': 'rw_mount'}}, 'yaml_str': None, 'other_parameter': {'status': 'Starting', 'parameters': {}}, 'additional_includes': []}), 'referenced_control_flow_node_instance_id': None, 'kwargs': {'services': {'Tracking': {'endpoint': 'azureml://uksouth.api.azureml.ms/mlflow/v1.0/subscriptions/1be31ef8-8d22-4196-8b01-190fb6f7b841/resourceGroups/aledvaghela-rg/providers/Microsoft.MachineLearningServices/workspaces/yambot?', 'type': 'Tracking'}, 'Studio': {'endpoint': 'https://ml.azure.com/runs/bubbly_battery_pw1p220lkf?wsid=/subscriptions/1be31ef8-8d22-4196-8b01-190fb6f7b841/resourcegroups/aledvaghela-rg/workspaces/yambot&tid=41c56fc2-7c3f-4d99-8755-4fb4a60f29c3', 'type': 'Studio'}}, 'status': 'Starting', 'creation_context': <azure.ai.ml.entities._system_data.SystemData object at 0x7f847f74bbe0>}, 'instance_id': 'ef270c16-7e22-4968-b4a7-48c4351f5530', 'source': 'BUILDER', 'validate_required_input_not_provided': True, 'limits': None, 'identity': None, 'distribution': None, 'environment_variables': {}, 'environment': 'yambot:1', 'resources': {'instance_count': 1, 'shm_size': '2g'}, 'queue_settings': {'job_tier': 'standard'}, 'swept': False})"
      ]
     },
     "execution_count": 5,
     "metadata": {},
     "output_type": "execute_result"
    }
   ],
   "source": [
    "ml_client.create_or_update(job)"
   ]
  },
  {
   "cell_type": "markdown",
   "metadata": {},
   "source": [
    "## View job output and wait for job completion\n",
    "\n",
    "View the job in Azure Machine Learning studio by selecting the link in the output of the previous cell. The output of this job will look like this in the Azure Machine Learning studio. Explore the tabs for various details like metrics, outputs etc. Once completed, the job will register a model in your workspace as a result of training. \n",
    "\n",
    "> [!IMPORTANT]\n",
    "> Wait until the status of the job is complete before returning to this notebook to continue. The job will take 2 to 3 minutes to run. It could take longer (up to 10 minutes) if the compute cluster has been scaled down to zero nodes and custom environment is still building.\n",
    "\n",
    "When you run the cell, the notebook output shows a link to the job's details page on Azure Studio. Alternatively, you can also select Jobs on the left navigation menu. A job is a grouping of many runs from a specified script or piece of code. Information for the run is stored under that job. The details page gives an overview of the job, the time it took to run, when it was created, etc. The page also has tabs to other information about the job such as metrics, Outputs + logs, and code. Listed below are the tabs available in the job's details page:\n",
    "\n",
    "* Overview: The overview section provides basic information about the job, including its status, start and end times, and the type of job that was run\n",
    "* Inputs: The input section lists the data and code that were used as inputs for the job. This section can include datasets, scripts, environment configurations, and other resources that were used during training. \n",
    "* Outputs + logs: The Outputs + logs tab contains logs generated while the job was running. This tab assists in troubleshooting if anything goes wrong with your training script or model creation.\n",
    "* Metrics: The metrics tab showcases key performance metrics from your model such as training score, f1 score, and precision score. "
   ]
  }
 ],
 "metadata": {
  "categories": [
   "SDK v2",
   "tutorials"
  ],
  "kernel_info": {
   "name": "python310-sdkv2"
  },
  "kernelspec": {
   "display_name": "Python 3 (ipykernel)",
   "language": "python",
   "name": "python3"
  },
  "language_info": {
   "codemirror_mode": {
    "name": "ipython",
    "version": 3
   },
   "file_extension": ".py",
   "mimetype": "text/x-python",
   "name": "python",
   "nbconvert_exporter": "python",
   "pygments_lexer": "ipython3",
   "version": "3.12.4"
  },
  "microsoft": {
   "host": {
    "AzureML": {
     "notebookHasBeenCompleted": true
    }
   },
   "ms_spell_check": {
    "ms_spell_check_language": "en"
   }
  },
  "nteract": {
   "version": "nteract-front-end@1.0.0"
  }
 },
 "nbformat": 4,
 "nbformat_minor": 2
}
