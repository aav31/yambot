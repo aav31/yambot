{
 "cells": [
  {
   "cell_type": "markdown",
   "id": "cbb5f54d",
   "metadata": {},
   "source": [
    "This stuff is because it needs to handle the relative import of the `yamb` package properly"
   ]
  },
  {
   "cell_type": "code",
   "execution_count": 1,
   "id": "08b7faaf",
   "metadata": {},
   "outputs": [],
   "source": [
    "import sys\n",
    "import os\n",
    "\n",
    "# Get the absolute path of the parent directory\n",
    "parent_dir = os.path.abspath(os.path.join(os.getcwd(), os.pardir))\n",
    "\n",
    "# Add the parent directory to sys.path\n",
    "if parent_dir not in sys.path:\n",
    "    sys.path.append(parent_dir)"
   ]
  },
  {
   "cell_type": "markdown",
   "id": "7aba18c4",
   "metadata": {},
   "source": [
    "# All about that space?"
   ]
  },
  {
   "cell_type": "markdown",
   "id": "1bc4483d",
   "metadata": {},
   "source": [
    "I think you can use any observation space, but the action space cannot be a dict or a tuple. `Box` space might be better as there seems to be more algorithms that support it. Though `MultiDiscrete` seems to be easier to describe."
   ]
  },
  {
   "cell_type": "code",
   "execution_count": 2,
   "id": "dc1b508e",
   "metadata": {},
   "outputs": [],
   "source": [
    "import numpy as np\n",
    "from gymnasium import spaces"
   ]
  },
  {
   "cell_type": "code",
   "execution_count": 3,
   "id": "b4102b93",
   "metadata": {},
   "outputs": [
    {
     "data": {
      "text/plain": [
       "array([4, 0, 4, 3, 3, 2, 0, 9, 7, 3])"
      ]
     },
     "execution_count": 3,
     "metadata": {},
     "output_type": "execute_result"
    }
   ],
   "source": [
    "# keep: np.array # action type 1 and 2, array of length 6 saying which dice we keep\n",
    "# announce: bool = False # roll_number / action type 1\n",
    "# announce_row: ROW = ROW.YAMB # roll_number / action type 1\n",
    "# row_to_fill: ROW = ROW.YAMB # roll_number / action type 3 \n",
    "# col_to_fill: COL = COL.DOLJE # roll_number / action type 3\n",
    "\n",
    "# the action space can't be a tuple or dictionary, which is tricky\n",
    "number_of_ones_to_keep_range = {\"low\" : 0, \"high\": 5}\n",
    "number_of_twos_to_keep_range = {\"low\" : 0, \"high\": 5}\n",
    "number_of_threes_to_keep_range = {\"low\" : 0, \"high\": 5}\n",
    "number_of_fours_to_keep_range = {\"low\" : 0, \"high\": 5}\n",
    "number_of_fives_to_keep_range = {\"low\" : 0, \"high\": 5}\n",
    "number_of_sixes_to_keep_range = {\"low\" : 0, \"high\": 5}\n",
    "announce_range = {\"low\" : 0, \"high\": 1}\n",
    "announce_row_range = {\"low\" : 0, \"high\": 13}\n",
    "row_to_fill_range = {\"low\": 0, \"high\": 13}\n",
    "col_to_fill_range = {\"low\": 0, \"high\": 3}\n",
    "\n",
    "low = np.array(\n",
    "[\n",
    "    number_of_ones_to_keep_range[\"low\"],\n",
    "    number_of_twos_to_keep_range[\"low\"],\n",
    "    number_of_threes_to_keep_range[\"low\"],\n",
    "    number_of_fours_to_keep_range[\"low\"],\n",
    "    number_of_fives_to_keep_range[\"low\"],\n",
    "    number_of_sixes_to_keep_range[\"low\"],\n",
    "    announce_range[\"low\"],\n",
    "    announce_row_range[\"low\"],\n",
    "    row_to_fill_range[\"low\"],\n",
    "    col_to_fill_range[\"low\"],\n",
    "]\n",
    ")\n",
    "\n",
    "high = np.array(\n",
    "[\n",
    "    number_of_ones_to_keep_range[\"high\"],\n",
    "    number_of_twos_to_keep_range[\"high\"],\n",
    "    number_of_threes_to_keep_range[\"high\"],\n",
    "    number_of_fours_to_keep_range[\"high\"],\n",
    "    number_of_fives_to_keep_range[\"high\"],\n",
    "    number_of_sixes_to_keep_range[\"high\"],\n",
    "    announce_range[\"high\"],\n",
    "    announce_row_range[\"high\"],\n",
    "    row_to_fill_range[\"high\"],\n",
    "    col_to_fill_range[\"high\"],\n",
    "]\n",
    ")\n",
    "\n",
    "action_space = spaces.Box(low=low, high=high, dtype=int)\n",
    "action_space.sample()"
   ]
  },
  {
   "cell_type": "code",
   "execution_count": 4,
   "id": "57ca0242",
   "metadata": {
    "scrolled": true
   },
   "outputs": [
    {
     "data": {
      "text/plain": [
       "array([1, 0, 2, 3, 4, 2, 0, 2, 4, 0], dtype=int64)"
      ]
     },
     "execution_count": 4,
     "metadata": {},
     "output_type": "execute_result"
    }
   ],
   "source": [
    "action_space = spaces.MultiDiscrete(np.array([6, 6, 6, 6, 6, 6, 2, 14, 14, 4]))\n",
    "action_space.sample()"
   ]
  },
  {
   "cell_type": "code",
   "execution_count": 5,
   "id": "38221ec8",
   "metadata": {},
   "outputs": [
    {
     "data": {
      "text/plain": [
       "array([ 1,  2,  2,  2,  2,  1,  0, 10,  0,  0], dtype=int64)"
      ]
     },
     "execution_count": 5,
     "metadata": {},
     "output_type": "execute_result"
    }
   ],
   "source": [
    "num1s = np.array([1, 1, 1, 0, 0, 0], dtype=np.int8)\n",
    "num2s = np.array([1, 1, 1, 0, 0, 0], dtype=np.int8)\n",
    "num3s = np.array([1, 1, 1, 0, 0, 0], dtype=np.int8)\n",
    "num4s = np.array([1, 1, 1, 0, 0, 0], dtype=np.int8)\n",
    "num5s = np.array([1, 1, 1, 0, 0, 0], dtype=np.int8)\n",
    "num6s = np.array([1, 1, 1, 0, 0, 0], dtype=np.int8)\n",
    "announce = np.array([1, 0], dtype=np.int8)\n",
    "announce_row = np.array([1]*14, dtype=np.int8)\n",
    "row_to_fill = np.array([1] + 13 * [0], dtype=np.int8)\n",
    "col_to_fill = np.array([1, 0, 0, 0], dtype=np.int8)\n",
    "mask = (num1s, num2s, num3s, num4s, num5s, num6s, announce, announce_row, row_to_fill, col_to_fill)\n",
    "action_space.sample(mask=mask)"
   ]
  },
  {
   "cell_type": "code",
   "execution_count": 6,
   "id": "f72f4de2",
   "metadata": {},
   "outputs": [
    {
     "data": {
      "text/plain": [
       "OrderedDict([('announced', 0),\n",
       "             ('announced_row', 13),\n",
       "             ('grid',\n",
       "              array([[ 133,  -99,   15],\n",
       "                     [  15,  -66,  -10],\n",
       "                     [ 114, -133,   10],\n",
       "                     [  92,  -30,   33],\n",
       "                     [ -82,    4,   95],\n",
       "                     [  37,  140,  100],\n",
       "                     [-119,  -30,  -14],\n",
       "                     [  79,  -77,  -74],\n",
       "                     [-114,   75,   67],\n",
       "                     [  52, -124,   55],\n",
       "                     [ -78,   99,    8],\n",
       "                     [  39,  -37,   54],\n",
       "                     [ 108,  -47,   86],\n",
       "                     [ -61,  -70, -105]])),\n",
       "             ('roll', array([3, 1, 0, 2, 4, 4])),\n",
       "             ('roll_number', 2),\n",
       "             ('turn_number', 35)])"
      ]
     },
     "execution_count": 6,
     "metadata": {},
     "output_type": "execute_result"
    }
   ],
   "source": [
    "spaces.Dict({\n",
    "            \"turn_number\": spaces.Discrete(14*3,start=0),\n",
    "            \"roll_number\": spaces.Discrete(3,start=0),\n",
    "            \"grid\": spaces.Box(low=-145, high=145, shape=(14, 3), dtype=int),\n",
    "            \"roll\": spaces.Box(low=0, high=5, shape=(6,), dtype=int),\n",
    "            \"announced\": spaces.Discrete(2,start=0),\n",
    "            \"announced_row\": spaces.Discrete(14, start=0),\n",
    "}).sample()\n",
    "        "
   ]
  },
  {
   "cell_type": "markdown",
   "id": "24480d4d",
   "metadata": {},
   "source": [
    "# Is el GPU available?"
   ]
  },
  {
   "cell_type": "code",
   "execution_count": 7,
   "id": "eb1349f5",
   "metadata": {},
   "outputs": [
    {
     "name": "stdout",
     "output_type": "stream",
     "text": [
      "False\n"
     ]
    }
   ],
   "source": [
    "import torch\n",
    "print(torch.cuda.is_available())"
   ]
  },
  {
   "cell_type": "markdown",
   "id": "844150ac",
   "metadata": {},
   "source": [
    "# Reward shaping"
   ]
  },
  {
   "cell_type": "code",
   "execution_count": 8,
   "id": "88da3aeb",
   "metadata": {},
   "outputs": [
    {
     "name": "stderr",
     "output_type": "stream",
     "text": [
      "<frozen importlib._bootstrap>:488: RuntimeWarning: Your system is avx2 capable but pygame was not built with support for it. The performance of some of your blits could be adversely affected. Consider enabling compile time detection with environment variables like PYGAME_DETECT_AVX2=1 if you are compiling without cross compilation.\n"
     ]
    }
   ],
   "source": [
    "from gymnasium import ObservationWrapper, RewardWrapper\n",
    "from yamb import YambEnv\n",
    "\n",
    "class AddStepsToReward(RewardWrapper):\n",
    "    def __init__(self, env):\n",
    "        super().__init__(env)\n",
    "\n",
    "    def reward(self, reward):\n",
    "        return 100*(self.unwrapped.turn_number*3 + self.unwrapped.roll_number) + reward / 1000.0\n",
    "    \n",
    "env = YambEnv()\n",
    "env = AddStepsToReward(env)"
   ]
  }
 ],
 "metadata": {
  "kernelspec": {
   "display_name": "Python 3 (ipykernel)",
   "language": "python",
   "name": "python3"
  },
  "language_info": {
   "codemirror_mode": {
    "name": "ipython",
    "version": 3
   },
   "file_extension": ".py",
   "mimetype": "text/x-python",
   "name": "python",
   "nbconvert_exporter": "python",
   "pygments_lexer": "ipython3",
   "version": "3.12.4"
  }
 },
 "nbformat": 4,
 "nbformat_minor": 5
}
